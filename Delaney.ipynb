{
  "nbformat": 4,
  "nbformat_minor": 0,
  "metadata": {
    "colab": {
      "name": "Delaney.ipynb",
      "provenance": [],
      "collapsed_sections": []
    },
    "kernelspec": {
      "name": "python3",
      "display_name": "Python 3"
    },
    "language_info": {
      "name": "python"
    }
  },
  "cells": [
    {
      "cell_type": "markdown",
      "metadata": {
        "id": "8bV6enOOlwyS"
      },
      "source": [
        "**Instal rdkit, deepchem and numpy**"
      ]
    },
    {
      "cell_type": "code",
      "metadata": {
        "id": "1EjrotyqEy1U"
      },
      "source": [
        "! curl -L bit.ly/rdkit-colab | tar xz -C /\n",
        "! pip install deepchem numpy"
      ],
      "execution_count": null,
      "outputs": []
    },
    {
      "cell_type": "markdown",
      "metadata": {
        "id": "QaXK8yN_mA6V"
      },
      "source": [
        "**Import deepchem and numpy**"
      ]
    },
    {
      "cell_type": "code",
      "metadata": {
        "id": "qR_uhc7cEuxi"
      },
      "source": [
        "import deepchem as dc\n",
        "import numpy as np"
      ],
      "execution_count": null,
      "outputs": []
    },
    {
      "cell_type": "markdown",
      "metadata": {
        "id": "2sZjB3A_mJV6"
      },
      "source": [
        "**Load Delaney dataset**"
      ]
    },
    {
      "cell_type": "code",
      "metadata": {
        "id": "TBdkIvGUEgcj"
      },
      "source": [
        "tasks, datasets, transformers = dc.molnet.load_delaney(featurizer='GraphConv')\n",
        "train_dataset, valid_dataset, test_dataset = datasets"
      ],
      "execution_count": null,
      "outputs": []
    },
    {
      "cell_type": "markdown",
      "metadata": {
        "id": "rQSnh-qUmSUU"
      },
      "source": [
        "**A Regression Graph Convolutional Network is chosen. We set the dropout rate to 0.2. Therefore 20% of the outputs from each convolutional layer will randomly be set to 0. This will reduce overfitting**"
      ]
    },
    {
      "cell_type": "code",
      "metadata": {
        "id": "nDpRzHubEikR"
      },
      "source": [
        "model = dc.models.GraphConvModel(len(tasks), mode='regression', dropout=0.2)\n"
      ],
      "execution_count": null,
      "outputs": []
    },
    {
      "cell_type": "markdown",
      "metadata": {
        "id": "9EeoPyIJm99A"
      },
      "source": [
        "**Train model**"
      ]
    },
    {
      "cell_type": "code",
      "metadata": {
        "id": "BNZP1eyeEk2w"
      },
      "source": [
        "model.fit(train_dataset, nb_epoch=500)"
      ],
      "execution_count": null,
      "outputs": []
    },
    {
      "cell_type": "markdown",
      "metadata": {
        "id": "c9vePHtMupMo"
      },
      "source": [
        "**Evaluate model using Pearson R2 score**"
      ]
    },
    {
      "cell_type": "code",
      "metadata": {
        "id": "rqqA6b7vXfAz"
      },
      "source": [
        "avg_pearson_r2 = dc.metrics.Metric(dc.metrics.pearson_r2_score, np.mean)\n",
        "train_scores = model.evaluate(train_dataset, [avg_pearson_r2], transformers)\n",
        "test_scores = model.evaluate(test_dataset, [avg_pearson_r2], transformers)\n",
        "\n",
        "print('train_scores: {}\\ntest_scores: {}'.format(train_scores, test_scores))"
      ],
      "execution_count": null,
      "outputs": []
    }
  ]
}
